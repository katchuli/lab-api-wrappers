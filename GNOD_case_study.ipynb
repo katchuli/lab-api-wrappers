{
 "cells": [
  {
   "cell_type": "code",
   "execution_count": 97,
   "metadata": {
    "id": "SyHqFC5dxt8W"
   },
   "outputs": [],
   "source": [
    "#!pip install bs4\n",
    "from bs4 import BeautifulSoup"
   ]
  },
  {
   "cell_type": "code",
   "execution_count": 98,
   "metadata": {
    "id": "5lnKQA63zPrb"
   },
   "outputs": [],
   "source": [
    "from bs4 import BeautifulSoup\n",
    "import requests\n",
    "import pandas as pd"
   ]
  },
  {
   "cell_type": "code",
   "execution_count": 99,
   "metadata": {
    "id": "zdor6CI2lZlK"
   },
   "outputs": [],
   "source": [
    "# 2. find url and store it in a variable\n",
    "url = \"https://www.popvortex.com/music/charts/top-100-songs.php\""
   ]
  },
  {
   "cell_type": "code",
   "execution_count": 100,
   "metadata": {},
   "outputs": [],
   "source": [
    "response = requests.get(url)"
   ]
  },
  {
   "cell_type": "code",
   "execution_count": 101,
   "metadata": {},
   "outputs": [
    {
     "data": {
      "text/plain": [
       "200"
      ]
     },
     "execution_count": 101,
     "metadata": {},
     "output_type": "execute_result"
    }
   ],
   "source": [
    "response.status_code"
   ]
  },
  {
   "cell_type": "code",
   "execution_count": 102,
   "metadata": {},
   "outputs": [],
   "source": [
    "# response.content"
   ]
  },
  {
   "cell_type": "markdown",
   "metadata": {},
   "source": [
    "### 1. TOP 100 songs"
   ]
  },
  {
   "cell_type": "code",
   "execution_count": 103,
   "metadata": {},
   "outputs": [],
   "source": [
    "soup = BeautifulSoup(response.content, \"html.parser\")"
   ]
  },
  {
   "cell_type": "code",
   "execution_count": 104,
   "metadata": {
    "scrolled": true
   },
   "outputs": [
    {
     "data": {
      "text/plain": [
       "[<cite class=\"title\">TEXAS HOLD 'EM</cite>,\n",
       " <cite class=\"title\">Lose Control</cite>,\n",
       " <cite class=\"title\">Beautiful Things</cite>,\n",
       " <cite class=\"title\">Beautiful Messes</cite>,\n",
       " <cite class=\"title\">TEXAS HOLD 'EM</cite>,\n",
       " <cite class=\"title\">Flowers</cite>,\n",
       " <cite class=\"title\">Lovin On Me</cite>,\n",
       " <cite class=\"title\">Don't Let the Old Man In</cite>,\n",
       " <cite class=\"title\">Selfish</cite>,\n",
       " <cite class=\"title\">Turn the Lights Back On</cite>,\n",
       " <cite class=\"title\">I Remember Everything (feat. Kacey Musgraves)</cite>,\n",
       " <cite class=\"title\">Made For Me</cite>,\n",
       " <cite class=\"title\">Fast Car</cite>,\n",
       " <cite class=\"title\">Where the Wild Things Are</cite>,\n",
       " <cite class=\"title\">16 CARRIAGES</cite>,\n",
       " <cite class=\"title\">Houdini</cite>,\n",
       " <cite class=\"title\">Save Me</cite>,\n",
       " <cite class=\"title\">Live Like You Were Dying</cite>,\n",
       " <cite class=\"title\">Lil Boo Thang</cite>,\n",
       " <cite class=\"title\">Training Season</cite>,\n",
       " <cite class=\"title\">Need a Favor</cite>,\n",
       " <cite class=\"title\">Powerful Women</cite>,\n",
       " <cite class=\"title\">Fast Car</cite>,\n",
       " <cite class=\"title\">Yeah! (feat. Lil Jon &amp; Ludacris)</cite>,\n",
       " <cite class=\"title\">Spicy Margarita</cite>,\n",
       " <cite class=\"title\">White Horse</cite>,\n",
       " <cite class=\"title\">Three Little Birds</cite>,\n",
       " <cite class=\"title\">Cruel Summer</cite>,\n",
       " <cite class=\"title\">Until I Found You</cite>,\n",
       " <cite class=\"title\">Good Day</cite>,\n",
       " <cite class=\"title\">Save Me (with Lainey Wilson)</cite>,\n",
       " <cite class=\"title\">Spin You Around (1/24)</cite>,\n",
       " <cite class=\"title\">Thinkin’ Bout Me</cite>,\n",
       " <cite class=\"title\">You Are the Reason</cite>,\n",
       " <cite class=\"title\">Murder On the Dancefloor (Radio Edit)</cite>,\n",
       " <cite class=\"title\">Country's Cool Again</cite>,\n",
       " <cite class=\"title\">Wildflowers and Wild Horses (Single Version)</cite>,\n",
       " <cite class=\"title\">Should've Been a Cowboy</cite>,\n",
       " <cite class=\"title\">What Was I Made For? (From The Motion Picture \"Barbie\")</cite>,\n",
       " <cite class=\"title\">Devil You Know</cite>,\n",
       " <cite class=\"title\">A Country Boy Can Survive</cite>,\n",
       " <cite class=\"title\">Hard to Love</cite>,\n",
       " <cite class=\"title\">Pretty Little Poison</cite>,\n",
       " <cite class=\"title\">Water</cite>,\n",
       " <cite class=\"title\">Last Night</cite>,\n",
       " <cite class=\"title\">23</cite>,\n",
       " <cite class=\"title\">Stick Season</cite>,\n",
       " <cite class=\"title\">Sorrys &amp; Ferraris</cite>,\n",
       " <cite class=\"title\">Tennessee Whiskey</cite>,\n",
       " <cite class=\"title\">Lovin On Me</cite>,\n",
       " <cite class=\"title\">One Love / People Get Ready</cite>,\n",
       " <cite class=\"title\">A Symptom Of Being Human</cite>,\n",
       " <cite class=\"title\">Praise Jah In the Moonlight</cite>,\n",
       " <cite class=\"title\">The Door</cite>,\n",
       " <cite class=\"title\">The Sound of Silence (CYRIL Remix)</cite>,\n",
       " <cite class=\"title\">In Case You Didn't Know</cite>,\n",
       " <cite class=\"title\">TRUCK BED</cite>,\n",
       " <cite class=\"title\">Standing Next to You (Usher Remix)</cite>,\n",
       " <cite class=\"title\">dont let me go</cite>,\n",
       " <cite class=\"title\">Until I Found You (Em Beihold Version)</cite>,\n",
       " <cite class=\"title\">Nothing's Gonna Stop Us Now</cite>,\n",
       " <cite class=\"title\">Courtesy of the Red, White and Blue (The Angry American)</cite>,\n",
       " <cite class=\"title\">Watermelon Moonshine</cite>,\n",
       " <cite class=\"title\">Anti-Hero</cite>,\n",
       " <cite class=\"title\">You’re Losing Me (From The Vault)</cite>,\n",
       " <cite class=\"title\">Life With You</cite>,\n",
       " <cite class=\"title\">Give In to Me</cite>,\n",
       " <cite class=\"title\">As Good As I Once Was</cite>,\n",
       " <cite class=\"title\">You Belong With Me (Taylor’s Version)</cite>,\n",
       " <cite class=\"title\">The Painter</cite>,\n",
       " <cite class=\"title\">Standing Next to You</cite>,\n",
       " <cite class=\"title\">Dance The Night</cite>,\n",
       " <cite class=\"title\">To Be A Man (feat. Darius Rucker)</cite>,\n",
       " <cite class=\"title\">Love Story (Taylor’s Version)</cite>,\n",
       " <cite class=\"title\">Standing Next to You (USHER Remix)</cite>,\n",
       " <cite class=\"title\">Praise (feat. Brandon Lake, Chris Brown &amp; Chandler Moore)</cite>,\n",
       " <cite class=\"title\">What I Couldn’t Forget</cite>,\n",
       " <cite class=\"title\">yes, and?</cite>,\n",
       " <cite class=\"title\">Lover</cite>,\n",
       " <cite class=\"title\">Dance You Outta My Head</cite>,\n",
       " <cite class=\"title\">Leave a Light On</cite>,\n",
       " <cite class=\"title\">Lead Me Home</cite>,\n",
       " <cite class=\"title\">Bulletproof</cite>,\n",
       " <cite class=\"title\">redrum</cite>,\n",
       " <cite class=\"title\">We Are the World</cite>,\n",
       " <cite class=\"title\">Unstoppable</cite>,\n",
       " <cite class=\"title\">greedy</cite>,\n",
       " <cite class=\"title\">bury a friend</cite>,\n",
       " <cite class=\"title\">...Ready For It?</cite>,\n",
       " <cite class=\"title\">HISS</cite>,\n",
       " <cite class=\"title\">Can't Get Enough</cite>,\n",
       " <cite class=\"title\">Don't Stop Praying</cite>,\n",
       " <cite class=\"title\">You Need To Calm Down</cite>,\n",
       " <cite class=\"title\">Standing Next to You (Slow Jam Remix)</cite>,\n",
       " <cite class=\"title\">Standing Next to You (Band Version)</cite>,\n",
       " <cite class=\"title\">Standing Next to You (Future Funk Remix)</cite>,\n",
       " <cite class=\"title\">Scared To Start</cite>,\n",
       " <cite class=\"title\">Karma</cite>,\n",
       " <cite class=\"title\">Is It Over Now? (Taylor's Version) [From The Vault]</cite>,\n",
       " <cite class=\"title\">Standing Next to You (Holiday Remix)</cite>]"
      ]
     },
     "execution_count": 104,
     "metadata": {},
     "output_type": "execute_result"
    }
   ],
   "source": [
    "soup.select('div.chart-content.col-xs-12.col-sm-8 > p > cite')"
   ]
  },
  {
   "cell_type": "code",
   "execution_count": 105,
   "metadata": {},
   "outputs": [
    {
     "data": {
      "text/plain": [
       "100"
      ]
     },
     "execution_count": 105,
     "metadata": {},
     "output_type": "execute_result"
    }
   ],
   "source": [
    "len(soup.select('div.chart-content.col-xs-12.col-sm-8 > p > cite'))"
   ]
  },
  {
   "cell_type": "code",
   "execution_count": 106,
   "metadata": {},
   "outputs": [
    {
     "data": {
      "text/plain": [
       "[<em class=\"artist\">Beyoncé</em>,\n",
       " <em class=\"artist\">Teddy Swims</em>,\n",
       " <em class=\"artist\">Benson Boone</em>,\n",
       " <em class=\"artist\">Hillary Scott &amp; The Scott Family</em>,\n",
       " <em class=\"artist\">Beyoncé</em>,\n",
       " <em class=\"artist\">Miley Cyrus</em>,\n",
       " <em class=\"artist\">Jack Harlow</em>,\n",
       " <em class=\"artist\">Toby Keith</em>,\n",
       " <em class=\"artist\">Justin Timberlake</em>,\n",
       " <em class=\"artist\">Billy Joel</em>,\n",
       " <em class=\"artist\">Zach Bryan</em>,\n",
       " <em class=\"artist\">Muni Long</em>,\n",
       " <em class=\"artist\">Luke Combs</em>,\n",
       " <em class=\"artist\">Luke Combs</em>,\n",
       " <em class=\"artist\">Beyoncé</em>,\n",
       " <em class=\"artist\">Dua Lipa</em>,\n",
       " <em class=\"artist\">Jelly Roll</em>,\n",
       " <em class=\"artist\">Tim McGraw</em>,\n",
       " <em class=\"artist\">Paul Russell</em>,\n",
       " <em class=\"artist\">Dua Lipa</em>,\n",
       " <em class=\"artist\">Jelly Roll</em>,\n",
       " <em class=\"artist\">Pitbull &amp; Dolly Parton</em>,\n",
       " <em class=\"artist\">Tracy Chapman</em>,\n",
       " <em class=\"artist\">USHER</em>,\n",
       " <em class=\"artist\">Jason Derulo &amp; Michael Bublé</em>,\n",
       " <em class=\"artist\">Chris Stapleton</em>,\n",
       " <em class=\"artist\">Bob Marley &amp; The Wailers</em>,\n",
       " <em class=\"artist\">Taylor Swift</em>,\n",
       " <em class=\"artist\">Stephen Sanchez</em>,\n",
       " <em class=\"artist\">Forrest Frank</em>,\n",
       " <em class=\"artist\">Jelly Roll</em>,\n",
       " <em class=\"artist\">Morgan Wallen</em>,\n",
       " <em class=\"artist\">Morgan Wallen</em>,\n",
       " <em class=\"artist\">Calum Scott</em>,\n",
       " <em class=\"artist\">Sophie Ellis-Bextor</em>,\n",
       " <em class=\"artist\">Lainey Wilson</em>,\n",
       " <em class=\"artist\">Lainey Wilson</em>,\n",
       " <em class=\"artist\">Toby Keith</em>,\n",
       " <em class=\"artist\">Billie Eilish</em>,\n",
       " <em class=\"artist\">Tyler Braden</em>,\n",
       " <em class=\"artist\">Hank Williams, Jr.</em>,\n",
       " <em class=\"artist\">Lee Brice</em>,\n",
       " <em class=\"artist\">Warren Zeiders</em>,\n",
       " <em class=\"artist\">Tyla</em>,\n",
       " <em class=\"artist\">Morgan Wallen</em>,\n",
       " <em class=\"artist\">Chayce Beckham</em>,\n",
       " <em class=\"artist\">Noah Kahan</em>,\n",
       " <em class=\"artist\">Polo G</em>,\n",
       " <em class=\"artist\">Chris Stapleton</em>,\n",
       " <em class=\"artist\">Jack Harlow</em>,\n",
       " <em class=\"artist\">Bob Marley &amp; The Wailers</em>,\n",
       " <em class=\"artist\">Shinedown</em>,\n",
       " <em class=\"artist\">YG Marley</em>,\n",
       " <em class=\"artist\">Teddy Swims</em>,\n",
       " <em class=\"artist\">Disturbed</em>,\n",
       " <em class=\"artist\">Brett Young</em>,\n",
       " <em class=\"artist\">HARDY</em>,\n",
       " <em class=\"artist\">Jung Kook &amp; USHER</em>,\n",
       " <em class=\"artist\">mgk</em>,\n",
       " <em class=\"artist\">Stephen Sanchez &amp; Em Beihold</em>,\n",
       " <em class=\"artist\">Starship</em>,\n",
       " <em class=\"artist\">Toby Keith</em>,\n",
       " <em class=\"artist\">Lainey Wilson</em>,\n",
       " <em class=\"artist\">Taylor Swift</em>,\n",
       " <em class=\"artist\">Taylor Swift</em>,\n",
       " <em class=\"artist\">Kelsey Hart</em>,\n",
       " <em class=\"artist\">Garrett Hedlund &amp; Leighton Meester</em>,\n",
       " <em class=\"artist\">Toby Keith</em>,\n",
       " <em class=\"artist\">Taylor Swift</em>,\n",
       " <em class=\"artist\">Cody Johnson</em>,\n",
       " <em class=\"artist\">Jung Kook</em>,\n",
       " <em class=\"artist\">Dua Lipa</em>,\n",
       " <em class=\"artist\">Dax</em>,\n",
       " <em class=\"artist\">Taylor Swift</em>,\n",
       " <em class=\"artist\">Jung Kook &amp; USHER</em>,\n",
       " <em class=\"artist\">Elevation Worship</em>,\n",
       " <em class=\"artist\">Drake Milligan</em>,\n",
       " <em class=\"artist\">Ariana Grande &amp; Mariah Carey</em>,\n",
       " <em class=\"artist\">Taylor Swift</em>,\n",
       " <em class=\"artist\">Cat Janice</em>,\n",
       " <em class=\"artist\">Papa Roach</em>,\n",
       " <em class=\"artist\">Jamey Johnson</em>,\n",
       " <em class=\"artist\">Nate Smith</em>,\n",
       " <em class=\"artist\">21 Savage</em>,\n",
       " <em class=\"artist\">U.S.A. for Africa</em>,\n",
       " <em class=\"artist\">Sia</em>,\n",
       " <em class=\"artist\">Tate McRae</em>,\n",
       " <em class=\"artist\">Billie Eilish</em>,\n",
       " <em class=\"artist\">Taylor Swift</em>,\n",
       " <em class=\"artist\">Megan Thee Stallion</em>,\n",
       " <em class=\"artist\">Jennifer Lopez</em>,\n",
       " <em class=\"artist\">Matthew West</em>,\n",
       " <em class=\"artist\">Taylor Swift</em>,\n",
       " <em class=\"artist\">Jung Kook</em>,\n",
       " <em class=\"artist\">Jung Kook</em>,\n",
       " <em class=\"artist\">Jung Kook</em>,\n",
       " <em class=\"artist\">Michael Marcagi</em>,\n",
       " <em class=\"artist\">Taylor Swift</em>,\n",
       " <em class=\"artist\">Taylor Swift</em>,\n",
       " <em class=\"artist\">Jung Kook</em>]"
      ]
     },
     "execution_count": 106,
     "metadata": {},
     "output_type": "execute_result"
    }
   ],
   "source": [
    "soup.select('div.chart-content.col-xs-12.col-sm-8 > p > em')"
   ]
  },
  {
   "cell_type": "code",
   "execution_count": 107,
   "metadata": {},
   "outputs": [
    {
     "data": {
      "text/plain": [
       "100"
      ]
     },
     "execution_count": 107,
     "metadata": {},
     "output_type": "execute_result"
    }
   ],
   "source": [
    "len(soup.select('div.chart-content.col-xs-12.col-sm-8 > p > em'))"
   ]
  },
  {
   "cell_type": "code",
   "execution_count": 108,
   "metadata": {},
   "outputs": [],
   "source": [
    "songs = []\n",
    "artists = []\n",
    "for i in range(1,100):\n",
    "    songs.append(soup.select('div.chart-content.col-xs-12.col-sm-8 > p > cite')[i].get_text())\n",
    "    artists.append(soup.select('div.chart-content.col-xs-12.col-sm-8 > p > em')[i].get_text())"
   ]
  },
  {
   "cell_type": "code",
   "execution_count": 109,
   "metadata": {},
   "outputs": [],
   "source": [
    "top100 = pd.DataFrame({'song':songs, 'artist':artists})"
   ]
  },
  {
   "cell_type": "code",
   "execution_count": 110,
   "metadata": {},
   "outputs": [
    {
     "data": {
      "text/html": [
       "<div>\n",
       "<style scoped>\n",
       "    .dataframe tbody tr th:only-of-type {\n",
       "        vertical-align: middle;\n",
       "    }\n",
       "\n",
       "    .dataframe tbody tr th {\n",
       "        vertical-align: top;\n",
       "    }\n",
       "\n",
       "    .dataframe thead th {\n",
       "        text-align: right;\n",
       "    }\n",
       "</style>\n",
       "<table border=\"1\" class=\"dataframe\">\n",
       "  <thead>\n",
       "    <tr style=\"text-align: right;\">\n",
       "      <th></th>\n",
       "      <th>song</th>\n",
       "      <th>artist</th>\n",
       "    </tr>\n",
       "  </thead>\n",
       "  <tbody>\n",
       "    <tr>\n",
       "      <th>0</th>\n",
       "      <td>Lose Control</td>\n",
       "      <td>Teddy Swims</td>\n",
       "    </tr>\n",
       "    <tr>\n",
       "      <th>1</th>\n",
       "      <td>Beautiful Things</td>\n",
       "      <td>Benson Boone</td>\n",
       "    </tr>\n",
       "    <tr>\n",
       "      <th>2</th>\n",
       "      <td>Beautiful Messes</td>\n",
       "      <td>Hillary Scott &amp; The Scott Family</td>\n",
       "    </tr>\n",
       "    <tr>\n",
       "      <th>3</th>\n",
       "      <td>TEXAS HOLD 'EM</td>\n",
       "      <td>Beyoncé</td>\n",
       "    </tr>\n",
       "    <tr>\n",
       "      <th>4</th>\n",
       "      <td>Flowers</td>\n",
       "      <td>Miley Cyrus</td>\n",
       "    </tr>\n",
       "    <tr>\n",
       "      <th>5</th>\n",
       "      <td>Lovin On Me</td>\n",
       "      <td>Jack Harlow</td>\n",
       "    </tr>\n",
       "    <tr>\n",
       "      <th>6</th>\n",
       "      <td>Don't Let the Old Man In</td>\n",
       "      <td>Toby Keith</td>\n",
       "    </tr>\n",
       "    <tr>\n",
       "      <th>7</th>\n",
       "      <td>Selfish</td>\n",
       "      <td>Justin Timberlake</td>\n",
       "    </tr>\n",
       "    <tr>\n",
       "      <th>8</th>\n",
       "      <td>Turn the Lights Back On</td>\n",
       "      <td>Billy Joel</td>\n",
       "    </tr>\n",
       "    <tr>\n",
       "      <th>9</th>\n",
       "      <td>I Remember Everything (feat. Kacey Musgraves)</td>\n",
       "      <td>Zach Bryan</td>\n",
       "    </tr>\n",
       "  </tbody>\n",
       "</table>\n",
       "</div>"
      ],
      "text/plain": [
       "                                            song  \\\n",
       "0                                   Lose Control   \n",
       "1                               Beautiful Things   \n",
       "2                               Beautiful Messes   \n",
       "3                                 TEXAS HOLD 'EM   \n",
       "4                                        Flowers   \n",
       "5                                    Lovin On Me   \n",
       "6                       Don't Let the Old Man In   \n",
       "7                                        Selfish   \n",
       "8                        Turn the Lights Back On   \n",
       "9  I Remember Everything (feat. Kacey Musgraves)   \n",
       "\n",
       "                             artist  \n",
       "0                       Teddy Swims  \n",
       "1                      Benson Boone  \n",
       "2  Hillary Scott & The Scott Family  \n",
       "3                           Beyoncé  \n",
       "4                       Miley Cyrus  \n",
       "5                       Jack Harlow  \n",
       "6                        Toby Keith  \n",
       "7                 Justin Timberlake  \n",
       "8                        Billy Joel  \n",
       "9                        Zach Bryan  "
      ]
     },
     "execution_count": 110,
     "metadata": {},
     "output_type": "execute_result"
    }
   ],
   "source": [
    "top100.head(10)"
   ]
  },
  {
   "cell_type": "markdown",
   "metadata": {},
   "source": [
    "### 2. RECOMENDER"
   ]
  },
  {
   "cell_type": "code",
   "execution_count": 111,
   "metadata": {},
   "outputs": [
    {
     "name": "stdout",
     "output_type": "stream",
     "text": [
      "What song do you want?tobogan\n"
     ]
    }
   ],
   "source": [
    "wish = input(\"What song do you want?\")"
   ]
  },
  {
   "cell_type": "code",
   "execution_count": 112,
   "metadata": {},
   "outputs": [],
   "source": [
    "from random import randint"
   ]
  },
  {
   "cell_type": "code",
   "execution_count": 113,
   "metadata": {},
   "outputs": [
    {
     "name": "stdout",
     "output_type": "stream",
     "text": [
      "The song is not in the list.\n",
      "Try this one:\n",
      "Anti-Hero : Taylor Swift\n"
     ]
    }
   ],
   "source": [
    "from random import randint  \n",
    "def print_a_song(song_index):\n",
    "    print(top100['song'][song_index], ':', top100['artist'][song_index])\n",
    "\n",
    "index = -1\n",
    "\n",
    "try:\n",
    "    index = (top100[top100['song'] == wish].index.values)[0]\n",
    "except:\n",
    "    print(\"The song is not in the list.\")\n",
    "\n",
    "if index >= 0:\n",
    "    print_a_song(index)\n",
    "else:\n",
    "    random_song = randint(1, 100)\n",
    "    print(\"Try this one:\")\n",
    "    print_a_song(random_song)"
   ]
  },
  {
   "cell_type": "markdown",
   "metadata": {},
   "source": [
    "### 3. Create your collection of songs & audio features"
   ]
  },
  {
   "cell_type": "code",
   "execution_count": 114,
   "metadata": {
    "scrolled": true
   },
   "outputs": [
    {
     "name": "stdout",
     "output_type": "stream",
     "text": [
      "Requirement already satisfied: spotipy in /home/katherine/anaconda3/lib/python3.11/site-packages (2.23.0)\n",
      "Requirement already satisfied: redis>=3.5.3 in /home/katherine/anaconda3/lib/python3.11/site-packages (from spotipy) (5.0.1)\n",
      "Requirement already satisfied: requests>=2.25.0 in /home/katherine/anaconda3/lib/python3.11/site-packages (from spotipy) (2.29.0)\n",
      "Requirement already satisfied: six>=1.15.0 in /home/katherine/anaconda3/lib/python3.11/site-packages (from spotipy) (1.16.0)\n",
      "Requirement already satisfied: urllib3>=1.26.0 in /home/katherine/anaconda3/lib/python3.11/site-packages (from spotipy) (1.26.16)\n",
      "Requirement already satisfied: charset-normalizer<4,>=2 in /home/katherine/anaconda3/lib/python3.11/site-packages (from requests>=2.25.0->spotipy) (2.0.4)\n",
      "Requirement already satisfied: idna<4,>=2.5 in /home/katherine/anaconda3/lib/python3.11/site-packages (from requests>=2.25.0->spotipy) (3.4)\n",
      "Requirement already satisfied: certifi>=2017.4.17 in /home/katherine/anaconda3/lib/python3.11/site-packages (from requests>=2.25.0->spotipy) (2023.5.7)\n"
     ]
    }
   ],
   "source": [
    "!pip install spotipy"
   ]
  },
  {
   "cell_type": "code",
   "execution_count": 117,
   "metadata": {},
   "outputs": [],
   "source": [
    "import spotipy\n",
    "from spotipy.oauth2 import SpotifyClientCredentials"
   ]
  },
  {
   "cell_type": "code",
   "execution_count": 118,
   "metadata": {
    "scrolled": true
   },
   "outputs": [
    {
     "ename": "FileNotFoundError",
     "evalue": "[Errno 2] No such file or directory: 'secrets.txt'",
     "output_type": "error",
     "traceback": [
      "\u001b[0;31m---------------------------------------------------------------------------\u001b[0m",
      "\u001b[0;31mFileNotFoundError\u001b[0m                         Traceback (most recent call last)",
      "Cell \u001b[0;32mIn[118], line 1\u001b[0m\n\u001b[0;32m----> 1\u001b[0m secrets_file \u001b[38;5;241m=\u001b[39m \u001b[38;5;28mopen\u001b[39m(\u001b[38;5;124m\"\u001b[39m\u001b[38;5;124msecrets.txt\u001b[39m\u001b[38;5;124m\"\u001b[39m,\u001b[38;5;124m\"\u001b[39m\u001b[38;5;124mr\u001b[39m\u001b[38;5;124m\"\u001b[39m)\n",
      "File \u001b[0;32m~/anaconda3/lib/python3.11/site-packages/IPython/core/interactiveshell.py:284\u001b[0m, in \u001b[0;36m_modified_open\u001b[0;34m(file, *args, **kwargs)\u001b[0m\n\u001b[1;32m    277\u001b[0m \u001b[38;5;28;01mif\u001b[39;00m file \u001b[38;5;129;01min\u001b[39;00m {\u001b[38;5;241m0\u001b[39m, \u001b[38;5;241m1\u001b[39m, \u001b[38;5;241m2\u001b[39m}:\n\u001b[1;32m    278\u001b[0m     \u001b[38;5;28;01mraise\u001b[39;00m \u001b[38;5;167;01mValueError\u001b[39;00m(\n\u001b[1;32m    279\u001b[0m         \u001b[38;5;124mf\u001b[39m\u001b[38;5;124m\"\u001b[39m\u001b[38;5;124mIPython won\u001b[39m\u001b[38;5;124m'\u001b[39m\u001b[38;5;124mt let you open fd=\u001b[39m\u001b[38;5;132;01m{\u001b[39;00mfile\u001b[38;5;132;01m}\u001b[39;00m\u001b[38;5;124m by default \u001b[39m\u001b[38;5;124m\"\u001b[39m\n\u001b[1;32m    280\u001b[0m         \u001b[38;5;124m\"\u001b[39m\u001b[38;5;124mas it is likely to crash IPython. If you know what you are doing, \u001b[39m\u001b[38;5;124m\"\u001b[39m\n\u001b[1;32m    281\u001b[0m         \u001b[38;5;124m\"\u001b[39m\u001b[38;5;124myou can use builtins\u001b[39m\u001b[38;5;124m'\u001b[39m\u001b[38;5;124m open.\u001b[39m\u001b[38;5;124m\"\u001b[39m\n\u001b[1;32m    282\u001b[0m     )\n\u001b[0;32m--> 284\u001b[0m \u001b[38;5;28;01mreturn\u001b[39;00m io_open(file, \u001b[38;5;241m*\u001b[39margs, \u001b[38;5;241m*\u001b[39m\u001b[38;5;241m*\u001b[39mkwargs)\n",
      "\u001b[0;31mFileNotFoundError\u001b[0m: [Errno 2] No such file or directory: 'secrets.txt'"
     ]
    }
   ],
   "source": [
    "secrets_file = open(\"secrets.txt\",\"r\")"
   ]
  },
  {
   "cell_type": "code",
   "execution_count": null,
   "metadata": {},
   "outputs": [],
   "source": []
  }
 ],
 "metadata": {
  "colab": {
   "provenance": []
  },
  "kernelspec": {
   "display_name": "Python 3 (ipykernel)",
   "language": "python",
   "name": "python3"
  },
  "language_info": {
   "codemirror_mode": {
    "name": "ipython",
    "version": 3
   },
   "file_extension": ".py",
   "mimetype": "text/x-python",
   "name": "python",
   "nbconvert_exporter": "python",
   "pygments_lexer": "ipython3",
   "version": "3.11.3"
  }
 },
 "nbformat": 4,
 "nbformat_minor": 1
}
